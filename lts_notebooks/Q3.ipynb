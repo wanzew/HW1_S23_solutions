{
 "cells": [
  {
   "cell_type": "code",
   "execution_count": 1,
   "id": "d5ac3f7e",
   "metadata": {},
   "outputs": [
    {
     "name": "stderr",
     "output_type": "stream",
     "text": [
      "\u001b[32m\u001b[1m  Activating\u001b[22m\u001b[39m environment at `~/devel/HW1_S23_solutions/lts_notebooks/Project.toml`\n"
     ]
    }
   ],
   "source": [
    "import Pkg\n",
    "Pkg.activate(@__DIR__)\n",
    "Pkg.instantiate()\n",
    "using LinearAlgebra, Plots\n",
    "import ForwardDiff as FD\n",
    "using Printf\n",
    "using JLD2"
   ]
  },
  {
   "cell_type": "markdown",
   "id": "7142245b",
   "metadata": {},
   "source": [
    "## Q2 (20 pts): Augmented Lagrangian Quadratic Program Solver\n",
    "\n",
    "Here we are going to use the augmented lagrangian method described [here in a video](https://www.youtube.com/watch?v=0x0JD5uO_ZQ), with [the corresponding pdf here](https://github.com/Optimal-Control-16-745/lecture-notebooks-2022/blob/main/misc/AL_tutorial.pdf) to solve the following problem:\n",
    "\n",
    "$$\\begin{align}\n",
    "\\min_x \\quad & \\frac{1}{2}x^TQx + q^Tx \\\\ \n",
    "\\mbox{s.t.}\\quad &  Ax -b = 0 \\\\ \n",
    "&  Gx - h \\leq 0 \n",
    "\\end{align}$$\n",
    "where the cost function is described by $Q \\in \\mathbb{R}^{n \\times n}$, $q \\in \\mathbb{R}^n$, an equality constraint is described by $A \\in \\mathbb{R}^{m \\times n}$ and $b \\in \\mathbb{R}^m$, and an inequality constraint is described by $G \\in \\mathbb{R}^{p \\times n}$ and $h \\in \\mathbb{R}^p$.\n",
    "\n",
    "\n",
    "By introducing a dual variable $\\lambda \\in \\mathbb{R}^m$ for the equality constraint, and $\\mu \\in \\mathbb{R}^p$ for the inequality constraint, we have the following KKT conditions for optimality:\n",
    "\n",
    "$$\\begin{align}\n",
    "Qx + q + A^T\\lambda + G^T \\mu &= 0 \\quad \\quad \\text{stationarity}\\\\ \n",
    "Ax-b&= 0 \\quad \\quad \\text{primal feasibility} \\\\ \n",
    "Gx-h&\\leq 0 \\quad \\quad \\text{primal feasibility} \\\\ \n",
    "\\mu &\\geq 0 \\quad \\quad \\text{dual feasibility} \\\\ \n",
    "\\mu \\circ (Gx - h) &= 0 \\quad \\quad \\text{complementarity}\n",
    "  \\end{align}$$\n",
    "  where $\\circ$ is element-wise multiplication.  "
   ]
  },
  {
   "cell_type": "code",
   "execution_count": 2,
   "id": "e9a03604",
   "metadata": {},
   "outputs": [
    {
     "name": "stdout",
     "output_type": "stream",
     "text": [
      "iter   |∇Lₓ|      |∇ALₓ|     max(h)     |c|        compl     ρ\n",
      "----------------------------------------------------------------\n",
      "  1   0.00e+00   0.00e+00   4.38e+00   6.49e+00   0.00e+00  0e+00\n",
      "  2   0.00e+00   0.00e+00   4.38e+00   6.49e+00   0.00e+00  0e+00\n",
      "  3   0.00e+00   0.00e+00   4.38e+00   6.49e+00   0.00e+00  0e+00\n",
      "  4   0.00e+00   0.00e+00   4.38e+00   6.49e+00   0.00e+00  0e+00\n",
      "  5   0.00e+00   0.00e+00   4.38e+00   6.49e+00   0.00e+00  0e+00\n",
      "  6   0.00e+00   0.00e+00   4.38e+00   6.49e+00   0.00e+00  0e+00\n",
      "  7   0.00e+00   0.00e+00   4.38e+00   6.49e+00   0.00e+00  0e+00\n",
      "  8   0.00e+00   0.00e+00   4.38e+00   6.49e+00   0.00e+00  0e+00\n",
      "  9   0.00e+00   0.00e+00   4.38e+00   6.49e+00   0.00e+00  0e+00\n",
      " 10   0.00e+00   0.00e+00   4.38e+00   6.49e+00   0.00e+00  0e+00\n",
      " 11   0.00e+00   0.00e+00   4.38e+00   6.49e+00   0.00e+00  0e+00\n",
      " 12   0.00e+00   0.00e+00   4.38e+00   6.49e+00   0.00e+00  0e+00\n",
      " 13   0.00e+00   0.00e+00   4.38e+00   6.49e+00   0.00e+00  0e+00\n",
      " 14   0.00e+00   0.00e+00   4.38e+00   6.49e+00   0.00e+00  0e+00\n",
      " 15   0.00e+00   0.00e+00   4.38e+00   6.49e+00   0.00e+00  0e+00\n",
      " 16   0.00e+00   0.00e+00   4.38e+00   6.49e+00   0.00e+00  0e+00\n",
      " 17   0.00e+00   0.00e+00   4.38e+00   6.49e+00   0.00e+00  0e+00\n",
      " 18   0.00e+00   0.00e+00   4.38e+00   6.49e+00   0.00e+00  0e+00\n",
      " 19   0.00e+00   0.00e+00   4.38e+00   6.49e+00   0.00e+00  0e+00\n",
      " 20   0.00e+00   0.00e+00   4.38e+00   6.49e+00   0.00e+00  0e+00\n"
     ]
    },
    {
     "data": {
      "text/plain": [
       "([0.0, 0.0, 0.0, 0.0, 0.0, 0.0, 0.0, 0.0, 0.0, 0.0], [0.0, 0.0, 0.0], [0.0, 0.0, 0.0, 0.0, 0.0])"
      ]
     },
     "execution_count": 2,
     "metadata": {},
     "output_type": "execute_result"
    }
   ],
   "source": [
    "\"\"\"\n",
    "The data for the QP is stored in `qp` the following way:\n",
    "    @load joinpath(@__DIR__, \"qp_data.jld2\") qp \n",
    "\n",
    "which is a NamedTuple, where\n",
    "    Q, q, A, b, G, h = qp.Q, qp.q, qp.A, qp.b, qp.G, qp.h\n",
    "\n",
    "contains all of the problem data you will need for the QP.\n",
    "\n",
    "Your job is to make the following function \n",
    "    \n",
    "    x, λ, μ = solve_qp(qp)\n",
    "\n",
    "You can use (or not use) any of the additional functions:\n",
    "\"\"\"\n",
    "function cost(qp::NamedTuple, x::Vector)::Real\n",
    "    0.5*x'*qp.Q*x + dot(qp.q,x)\n",
    "end\n",
    "function c_eq(qp::NamedTuple, x::Vector)::Vector\n",
    "    qp.A*x - qp.b \n",
    "end\n",
    "function h_ineq(qp::NamedTuple, x::Vector)::Vector\n",
    "    qp.G*x - qp.h\n",
    "end\n",
    "\n",
    "function mask_matrix(qp::NamedTuple, x::Vector, μ::Vector, ρ::Real)::Matrix\n",
    "    error(\"not implemented\")\n",
    "end\n",
    "function augmented_lagrangian(qp::NamedTuple, x::Vector, λ::Vector, μ::Vector, ρ::Real)::Real\n",
    "    error(\"not implemented\")\n",
    "end\n",
    "function logging(qp::NamedTuple, main_iter::Int, AL_gradient::Vector, x::Vector, λ::Vector, μ::Vector, ρ::Real)\n",
    "    # TODO: stationarity norm\n",
    "    stationarity_norm = 0.0\n",
    "    @printf(\"%3d  % 7.2e  % 7.2e  % 7.2e  % 7.2e  % 7.2e  %5.0e\\n\",\n",
    "          main_iter, stationarity_norm, norm(AL_gradient), maximum(h_ineq(qp,x)),\n",
    "          norm(c_eq(qp,x),Inf), abs(dot(μ,h_ineq(qp,x))), ρ)\n",
    "end\n",
    "function solve_qp(qp)\n",
    "    x = zeros(length(qp.q))\n",
    "    λ = zeros(length(qp.b))\n",
    "    μ = zeros(length(qp.h))\n",
    "    \n",
    "    @printf \"iter   |∇Lₓ|      |∇ALₓ|     max(h)     |c|        compl     ρ\\n\"\n",
    "    @printf \"----------------------------------------------------------------\\n\"\n",
    "    \n",
    "    for main_iter = 1:20  \n",
    "        logging(qp, main_iter, zeros(1), x, λ, μ, 0.0)\n",
    "    end\n",
    "    return x, λ, μ\n",
    "end\n",
    "let \n",
    "    @load joinpath(@__DIR__, \"qp_data.jld2\") qp \n",
    "    x, λ, μ = solve_qp(qp)\n",
    "end"
   ]
  },
  {
   "cell_type": "code",
   "execution_count": 3,
   "id": "59f094c8",
   "metadata": {},
   "outputs": [
    {
     "data": {
      "text/plain": [
       "solve_qp (generic function with 1 method)"
      ]
     },
     "execution_count": 3,
     "metadata": {},
     "output_type": "execute_result"
    }
   ],
   "source": [
    "\"\"\"\n",
    "The data for the QP is stored in `qp` the following way:\n",
    "    @load joinpath(@__DIR__, \"qp_data.jld2\") qp \n",
    "\n",
    "which is a NamedTuple, where\n",
    "    Q, q, A, b, G, h = qp.Q, qp.q, qp.A, qp.b, qp.G, qp.h\n",
    "\n",
    "contains all of the problem data you will need for the QP.\n",
    "\n",
    "Your job is to make the following function \n",
    "    \n",
    "    x, λ, μ = solve_qp(qp)\n",
    "\n",
    "You can use (or not use) any of the following functions:\n",
    "\"\"\"\n",
    "function cost(qp::NamedTuple, x::Vector)::Real\n",
    "    0.5*x'*qp.Q*x + dot(qp.q,x)\n",
    "end\n",
    "function c_eq(qp::NamedTuple, x::Vector)::Vector\n",
    "    qp.A*x - qp.b \n",
    "end\n",
    "function h_ineq(qp::NamedTuple, x::Vector)::Vector\n",
    "    qp.G*x - qp.h\n",
    "end\n",
    "function kkt_conditions(qp::NamedTuple, x::Vector, λ::Vector, μ::Vector)::Vector\n",
    "    return [\n",
    "        qp.A'*λ + qp.G'*μ + qp.Q*x + qp.q; # stationarity\n",
    "        c_eq(qp,x);\n",
    "        (h_ineq(qp,x) .* μ)\n",
    "    ]\n",
    "end\n",
    "function mask_matrix(qp::NamedTuple, x::Vector, μ::Vector, ρ::Real)::Matrix\n",
    "    h = h_ineq(qp,x)\n",
    "    Iρ = zeros(length(μ), length(μ))\n",
    "    for i = 1:length(μ)\n",
    "        if ((h[i] < 0) && (μ[i] ==0))\n",
    "            Iρ[i,i]=0\n",
    "        else\n",
    "            Iρ[i,i]=ρ\n",
    "        end\n",
    "    end\n",
    "    return Iρ\n",
    "end\n",
    "function augmented_lagrangian(qp::NamedTuple, x::Vector, λ::Vector, μ::Vector, ρ::Real)::Real\n",
    "    h = h_ineq(qp,x)\n",
    "    c = c_eq(qp,x)\n",
    "    Iρ = mask_matrix(qp, x, μ, ρ)\n",
    "    cost(qp,x) + λ'*c + μ'*h + 0.5*ρ*c'c + 0.5*h'*Iρ*h\n",
    "end\n",
    "function logging(qp, main_iter, al_gradient, x, λ, μ, ρ)\n",
    "    stationarity = norm(qp.A'*λ + qp.G'*μ + qp.Q*x + qp.q)\n",
    "    @printf(\"%3d  % 7.2e  % 7.2e  % 7.2e  % 7.2e  % 7.2e  %5.0e\\n\",\n",
    "          main_iter, stationarity, norm(al_gradient), maximum(h_ineq(qp,x)),\n",
    "          norm(c_eq(qp,x),Inf), abs(dot(μ,h_ineq(qp,x))), ρ)\n",
    "end\n",
    "function solve_qp(qp)\n",
    "    x = zeros(length(qp.q))\n",
    "    λ = zeros(length(qp.b))\n",
    "    μ = zeros(length(qp.h))\n",
    "    ρ = 1.0 \n",
    "    ϕ = 10.0\n",
    "    \n",
    "    @printf \"iter   |∇Lₓ|      |∇ALₓ|     max(h)     |c|        compl     ρ\\n\"\n",
    "    @printf \"----------------------------------------------------------------\\n\"\n",
    "    for main_iter = 1:20\n",
    "        g = FD.gradient(_x->augmented_lagrangian(qp,_x,λ,μ,ρ), x)\n",
    "        if norm(g) < 1e-6 \n",
    "            λ += ρ*c_eq(qp, x)\n",
    "            μ = max.(0, μ + ρ*h_ineq(qp,x))\n",
    "            ρ *= ϕ\n",
    "        else\n",
    "            H = FD.hessian(_x->augmented_lagrangian(qp,_x,λ,μ,ρ), x)\n",
    "            x += -H\\g\n",
    "        end\n",
    "        logging(qp, main_iter, g, x, λ, μ, ρ)\n",
    "        \n",
    "        if (maximum(h_ineq(qp,x)) < 1e-8) && (norm(c_eq(qp,x),Inf) < 1e-8)\n",
    "            @info \"success\"\n",
    "            break\n",
    "        end  \n",
    "    end\n",
    "    \n",
    "    return x, λ, μ\n",
    "end"
   ]
  },
  {
   "cell_type": "code",
   "execution_count": 4,
   "id": "48825c31",
   "metadata": {},
   "outputs": [
    {
     "name": "stdout",
     "output_type": "stream",
     "text": [
      "iter   |∇Lₓ|      |∇ALₓ|     max(h)     |c|        compl     ρ\n",
      "----------------------------------------------------------------\n",
      "  1   0.00e+00   5.60e+01   1.55e+00   1.31e+00   0.00e+00  1e+00\n",
      "  2   0.00e+00   4.83e+00   5.51e-01   1.27e+00   0.00e+00  1e+00\n",
      "  3   0.00e+00   5.25e-15   5.51e-01   1.27e+00   4.59e-01  1e+01\n",
      "  4   0.00e+00   4.92e+01   2.56e-02   3.07e-01   4.94e-02  1e+01\n",
      "  5   0.00e+00   3.32e-14   2.56e-02   3.07e-01   1.05e-02  1e+02\n",
      "  6   0.00e+00   8.87e+01   6.84e-03   1.35e-02   4.55e-04  1e+02\n",
      "  7   0.00e+00   2.68e-13   6.84e-03   1.35e-02   7.94e-03  1e+03\n",
      "  8   0.00e+00   4.28e+01   6.84e-02   1.55e-04   1.40e-04  1e+03\n",
      "  9   0.00e+00   2.13e+02   3.64e-05   1.62e-04   1.17e-04  1e+03\n",
      " 10   0.00e+00   3.12e-12   3.64e-05   1.62e-04   1.06e-04  1e+04\n",
      " 11   0.00e+00   5.30e+00  -5.61e-09   2.05e-08   1.14e-08  1e+04\n",
      " 12   0.00e+00   3.11e-11  -5.61e-09   2.05e-08   1.14e-08  1e+05\n",
      " 13   0.00e+00   5.21e-03  -1.57e-13   3.92e-13   1.88e-13  1e+05\n"
     ]
    },
    {
     "name": "stderr",
     "output_type": "stream",
     "text": [
      "\u001b[36m\u001b[1m[ \u001b[22m\u001b[39m\u001b[36m\u001b[1mInfo: \u001b[22m\u001b[39msuccess\n"
     ]
    },
    {
     "name": "stdout",
     "output_type": "stream",
     "text": [
      "\u001b[0m\u001b[1mTest Summary: | \u001b[22m\u001b[32m\u001b[1mPass  \u001b[22m\u001b[39m\u001b[36m\u001b[1mTotal\u001b[22m\u001b[39m\n",
      "qp solver     | \u001b[32m   3  \u001b[39m\u001b[36m    3\u001b[39m\n"
     ]
    },
    {
     "data": {
      "text/plain": [
       "Test.DefaultTestSet(\"qp solver\", Any[], 3, false, false)"
      ]
     },
     "execution_count": 4,
     "metadata": {},
     "output_type": "execute_result"
    }
   ],
   "source": [
    "using Test \n",
    "@testset \"qp solver\" begin \n",
    "    @load joinpath(@__DIR__, \"qp_data.jld2\") qp \n",
    "    x, λ, μ = solve_qp(qp)\n",
    "    \n",
    "    @load joinpath(@__DIR__, \"qp_solutions.jld2\") qp_solutions\n",
    "    @test norm(x - qp_solutions.x,Inf)<1e-3;\n",
    "    @test norm(λ - qp_solutions.λ,Inf)<1e-3;\n",
    "    @test norm(μ - qp_solutions.μ,Inf)<1e-3;\n",
    "end"
   ]
  },
  {
   "cell_type": "markdown",
   "id": "3fdbfe90",
   "metadata": {},
   "source": [
    "# Simulating a Falling Brick with QP's\n",
    "In this question we'll be simulating a brick falling and sliding on ice in 2D. You will show that this problem can be formulated as a QP, which you will solve using an Augmented Lagrangian method.\n",
    "\n",
    "## The Dynamics\n",
    "The dynamics of the brick can be written in continuous time as\n",
    "$$ M \\dot{v}  + M g = J^T \\lambda \\\\ \\text{ where } M = mI, \\; g = \\begin{bmatrix} 0 \\\\ 9.81 \\end{bmatrix},\\; J = \\begin{bmatrix} 0 & 1 \\end{bmatrix} $$\n",
    "and $\\lambda \\in \\mathbb{R}$ is the normal force. The velocity $v \\in \\mathbb{R}^2$ and position $q \\in \\mathbb{R}^2$ are composed of the horizontal and vertical components.\n",
    "\n",
    "We can discretize the dynamics with backward Euler:\n",
    "$$ \\begin{align} \\begin{bmatrix} v_{k+1} \\\\ q_{k+1} \\end{bmatrix} = \\begin{bmatrix} v_k \\\\ q_k \\end{bmatrix}\n",
    "+ h \\begin{bmatrix} \\frac{1}{m} J^T \\lambda_{k+1} - g \\\\ v_{k+1} \\end{bmatrix} \\end{align} $$\n",
    "\n",
    "We also have the following contact constraints:\n",
    "$$ \\begin{align}\n",
    "J q_{k+1} &\\geq 0 &&\\text{(don't fall through the ice)} \\\\\n",
    "\\lambda_{k+1} &\\geq 0 &&\\text{(normal forces only push, not pull)} \\\\\n",
    "\\lambda_{k+1} J q_{k+1} &= 0 &&\\text{(no force at a distance)}\n",
    "\\end{align} $$"
   ]
  },
  {
   "cell_type": "markdown",
   "id": "4853205d",
   "metadata": {},
   "source": [
    "## Part (a): QP formulation (5 pts)\n",
    "Show that these discrete-time dynamics are equivalent to the following QP by writing down the KKT conditions.\n",
    "\n",
    "$$ \\begin{align}\n",
    "    &\\text{minimize}_{v_{k+1}} && \\frac{1}{2} v_{k+1}^T M v_{k+1} + v_{k+1}^T M (hg - v_k) \\\\\n",
    "    &\\text{subject to} && -J(q_k + h v_{k+1}) \\leq 0 \\\\\n",
    "\\end{align} $$"
   ]
  },
  {
   "cell_type": "code",
   "execution_count": null,
   "id": "82610efc",
   "metadata": {},
   "outputs": [],
   "source": [
    "# add brick sim "
   ]
  },
  {
   "cell_type": "code",
   "execution_count": null,
   "id": "7a70fe37",
   "metadata": {},
   "outputs": [],
   "source": []
  },
  {
   "cell_type": "code",
   "execution_count": null,
   "id": "d67c5447",
   "metadata": {},
   "outputs": [],
   "source": []
  },
  {
   "cell_type": "code",
   "execution_count": null,
   "id": "92e7535f",
   "metadata": {},
   "outputs": [],
   "source": []
  },
  {
   "cell_type": "code",
   "execution_count": null,
   "id": "cff43b7c",
   "metadata": {},
   "outputs": [],
   "source": []
  },
  {
   "cell_type": "code",
   "execution_count": 13,
   "id": "60f2bbd5",
   "metadata": {},
   "outputs": [
    {
     "name": "stdout",
     "output_type": "stream",
     "text": [
      "u_desired = [0.4336736009756228, -0.3, -0.24723937675211696, -0.3, 0.4322006566267577, 0.5, 0.2664066410847691, -0.13586769801731033, 0.2511672481943337, -0.2584918103466343]\n"
     ]
    },
    {
     "data": {
      "text/plain": [
       "10-element Vector{Float64}:\n",
       "  0.4336736009756228\n",
       " -0.3\n",
       " -0.24723937675211696\n",
       " -0.3\n",
       "  0.4322006566267577\n",
       "  0.5\n",
       "  0.2664066410847691\n",
       " -0.13586769801731033\n",
       "  0.2511672481943337\n",
       " -0.2584918103466343"
      ]
     },
     "execution_count": 13,
     "metadata": {},
     "output_type": "execute_result"
    }
   ],
   "source": [
    "# now let's solve a actuator allocation problem \n",
    "using Random\n",
    "using LinearAlgebra\n",
    "let \n",
    "    \n",
    "    rng = MersenneTwister(1234)\n",
    "    nu = 10\n",
    "    \n",
    "    u_max = 0.5*ones(nu)\n",
    "    u_min = -0.3*ones(nu)\n",
    "    u_desired = clamp.(0.5*randn(rng, nu), u_min, u_max)\n",
    "    @show u_desired\n",
    "    \n",
    "#     A = randn(rng, 3, nu)\n",
    "#     b = randn(rng, 3)\n",
    "#     Q = randn(rng, nu, nu); Q = Q'*Q + I \n",
    "#     q = 10*randn(rng, nu)\n",
    "    \n",
    "#     G = [diagm(ones(nu));-diagm(ones(nu))]\n",
    "#     h = [u_max; -u_min]\n",
    "    \n",
    "#     qp = (Q = Q, q = q, A = A, b = b, G=G, h = h)\n",
    "    \n",
    "#     u, λ, μ = solve_qp(qp)\n",
    "#     @show u \n",
    "\n",
    "    \n",
    "end"
   ]
  }
 ],
 "metadata": {
  "kernelspec": {
   "display_name": "Julia 1.6.7",
   "language": "julia",
   "name": "julia-1.6"
  },
  "language_info": {
   "file_extension": ".jl",
   "mimetype": "application/julia",
   "name": "julia",
   "version": "1.6.7"
  }
 },
 "nbformat": 4,
 "nbformat_minor": 5
}
