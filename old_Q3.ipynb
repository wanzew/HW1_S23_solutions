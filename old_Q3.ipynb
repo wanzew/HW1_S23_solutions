{
 "cells": [
  {
   "cell_type": "code",
   "execution_count": 1,
   "metadata": {},
   "outputs": [
    {
     "name": "stderr",
     "output_type": "stream",
     "text": [
      "\u001b[32m\u001b[1m  Activating\u001b[22m\u001b[39m project at `~/Classes/16745_OptimalControl/hw1_solutions`\n"
     ]
    }
   ],
   "source": [
    "import Pkg; Pkg.activate(joinpath(@__DIR__,\"..\")); Pkg.instantiate();\n",
    "using JLD2\n",
    "const resfile = joinpath(@__DIR__, \"q3.jld2\")\n",
    "const isautograder = @isdefined autograder;"
   ]
  },
  {
   "cell_type": "markdown",
   "metadata": {},
   "source": [
    "# A Falling Brick: Solving Quadratic Programs (40 pts)\n",
    "In this question we'll be simulating a brick falling and sliding on ice in 2D. You will show that this problem can be formulated as a QP, which you will solve using an Augmented Lagrangian method.\n",
    "\n",
    "## The Dynamics\n",
    "The dynamics of the brick can be written in continuous time as\n",
    "$$ M \\dot{v}  + M g = J^T \\lambda \\\\ \\text{ where } M = mI, \\; g = \\begin{bmatrix} 0 \\\\ 9.81 \\end{bmatrix},\\; J = \\begin{bmatrix} 0 & 1 \\end{bmatrix} $$\n",
    "and $\\lambda \\in \\mathbb{R}$ is the normal force. The velocity $v \\in \\mathbb{R}^2$ and position $q \\in \\mathbb{R}^2$ are composed of the horizontal and vertical components.\n",
    "\n",
    "We can discretize the dynamics with backward Euler:\n",
    "$$ \\begin{align} \\begin{bmatrix} v_{k+1} \\\\ q_{k+1} \\end{bmatrix} = \\begin{bmatrix} v_k \\\\ q_k \\end{bmatrix}\n",
    "+ h \\begin{bmatrix} \\frac{1}{m} J^T \\lambda_{k+1} - g \\\\ v_{k+1} \\end{bmatrix} \\end{align} $$\n",
    "\n",
    "We also have the following contact constraints:\n",
    "$$ \\begin{align}\n",
    "J q_{k+1} &\\geq 0 &&\\text{(don't fall through the ice)} \\\\\n",
    "\\lambda_{k+1} &\\geq 0 &&\\text{(normal forces only push, not pull)} \\\\\n",
    "\\lambda_{k+1} J q_{k+1} &= 0 &&\\text{(no force at a distance)}\n",
    "\\end{align} $$"
   ]
  },
  {
   "cell_type": "markdown",
   "metadata": {},
   "source": [
    "## Part (a): QP formulation (5 pts)\n",
    "Show that these discrete-time dynamics are equivalent to the following QP by writing down the KKT conditions.\n",
    "\n",
    "$$ \\begin{align}\n",
    "    &\\text{minimize}_{v_{k+1}} && \\frac{1}{2} v_{k+1}^T M v_{k+1} + v_{k+1}^T M (hg - v_k) \\\\\n",
    "    &\\text{subject to} && -J(q_k + h v_{k+1}) \\leq 0 \\\\\n",
    "\\end{align} $$"
   ]
  },
  {
   "cell_type": "markdown",
   "metadata": {},
   "source": [
    "**TASK**: Write down the KKT conditions for the optimization problem above, and show that it's equivalent to the dynamics problem stated previously. Use LaTeX markdown. (hint: $q_{k+1} = q_k + hv_{k+1}$)\n",
    "\n",
    "**SOLUTION**: \\\n",
    "Lagrangian:\n",
    "$$ \\mathcal{L} = \\frac{1}{2} v_{k+1}^T M v_{k+1} + v_{k+1}^T M (hg - v_k) - \\lambda J(q_k + h v_{k+1}) $$\n",
    "\n",
    "KKT Conditions:\n",
    "$$ \\begin{align}\n",
    "    M v_{k+1} + M(hg - v_k) - \\lambda h J^T &= 0 \\\\\n",
    "    J(q_k + h v_{k+1}) &\\ge 0 \\\\\n",
    "    \\lambda &\\ge 0 \\\\\n",
    "    \\lambda J(q_k + h v_{k+1}) &= 0 \\\\\n",
    "\\end{align} $$\n",
    "\n",
    "Solving the first equation for $v_{k+1}$ we get the backward Euler velocity dynamics:\n",
    "$$ v_{k+1} = v_k + h\\left(\\frac{1}{m} \\lambda J^T - g\\right) $$\n",
    "\n",
    "Substituting $q_k = q_{k+1} - hv_{k+1}$ into the constraint and complimentarity condition we get the other 2 contact constraints:\n",
    "$$ \n",
    "J(q_{k+1}) \\geq 0 \\\\\n",
    "\\lambda J(q_{k+1}) = 0 \n",
    "$$"
   ]
  },
  {
   "cell_type": "markdown",
   "metadata": {},
   "source": [
    "## Part (b): Implement an Augmented Lagrangian QP solver (25 pts)\n",
    "Now that we've shown that we can formulate the falling brick problem as a QP, write an augmented Lagrangian QP solver.\n",
    "\n",
    "We've provided the following data structure for storing the problem data for a generic QP of the form:\n",
    "$$ \\begin{align}\n",
    "    &\\text{minimize}_{x} && \\frac{1}{2} x^T P x + q^T x \\\\\n",
    "    &\\text{subject to} && A x = b \\\\\n",
    "    &&& C x \\leq d \\\\\n",
    "\\end{align} $$\n",
    "\n",
    "We've also provided a handful of functions that you may find useful when implementing your augmented Lagrangian solver. You're not required to use them."
   ]
  },
  {
   "cell_type": "code",
   "execution_count": 2,
   "metadata": {},
   "outputs": [
    {
     "data": {
      "text/plain": [
       "complimentarity (generic function with 1 method)"
      ]
     },
     "execution_count": 2,
     "metadata": {},
     "output_type": "execute_result"
    }
   ],
   "source": [
    "using Random, LinearAlgebra\n",
    "\"\"\"\n",
    "    QPData\n",
    "\n",
    "Holds the data for a Quadratic Program (QP) of the following form:\n",
    "\n",
    "min 0.5 x'P*x + q'x\n",
    "st. A*x = b\n",
    "    C*x ≤ d\n",
    "\n",
    "# Constructors\n",
    "    QPData(P,q,A,b,C,d)\n",
    "    QPData(n::Int,m::Int,p::Int)\n",
    "\n",
    "The second constructor will initialize all the problem with zeros of the appropriate dimension\n",
    "\"\"\"\n",
    "struct QPData\n",
    "    P::Matrix{Float64}\n",
    "    q::Vector{Float64}\n",
    "    A::Matrix{Float64}\n",
    "    b::Vector{Float64}\n",
    "    C::Matrix{Float64}\n",
    "    d::Vector{Float64}\n",
    "end\n",
    "function QPData(n::Int, m::Int, p::Int)\n",
    "    QPData(zeros(n,n), zeros(n), zeros(m,n), zeros(m), zeros(p,n), zeros(p))\n",
    "end\n",
    "Base.size(qp::QPData) = (length(qp.q), num_eq(qp), num_ineq(qp))\n",
    "num_eq(qp::QPData) = length(qp.b)\n",
    "num_ineq(qp::QPData) = length(qp.d)\n",
    "\n",
    "objective(qp::QPData, x) = 0.5 * x'qp.P*x + qp.q'x\n",
    "ceq(qp::QPData, x) = qp.A * x - qp.b\n",
    "cin(qp::QPData, x) = qp.C * x - qp.d\n",
    "\n",
    "function primal_residual(qp::QPData, x, λ, μ)\n",
    "    qp.P*x + qp.q + qp.A'λ + qp.C'μ\n",
    "end\n",
    "\n",
    "function dual_residual(qp::QPData, x, λ, μ)\n",
    "    g = ceq(qp, x)\n",
    "    h = cin(qp, x)\n",
    "    return [g; max.(0, h)]\n",
    "end\n",
    "\n",
    "function complimentarity(qp::QPData, x, λ, μ)\n",
    "    return [min.(0, μ); μ .* cin(qp, x)]\n",
    "end"
   ]
  },
  {
   "cell_type": "markdown",
   "metadata": {},
   "source": [
    "Implement the following function, which solves the QP specified by a `QPData` object. See the code below for an example of using the `QPData` type and how we expect it to be passed into the method. You're not required to solve a problem with equality constraints (since the brick problem doesn't require it), but we recommend adding in the functionality so you have a fully-functioning QP solver you can use for other problems.\n",
    "\n",
    "As we saw in class, an augmented Lagrangian solver consists of two loops: an \"inner\" loop that takes Newtons steps on the unconstrained augmented Lagrangian, and an \"outer\" loop that updates the penalty parameter and the estimates of the dual variables. We've provided you some starter code below to help you out. If you want to change those other methods (maybe to use a custom Julia type or take in extra input arguments), you're welcome to do so. We'll only call the outer `solve_qp` method from our test scripts."
   ]
  },
  {
   "cell_type": "code",
   "execution_count": 39,
   "metadata": {},
   "outputs": [
    {
     "data": {
      "text/plain": [
       "dual_update"
      ]
     },
     "execution_count": 39,
     "metadata": {},
     "output_type": "execute_result"
    }
   ],
   "source": [
    "# TASK: Implement the following method (25 pts)\n",
    "\"\"\"\n",
    "    solve_qp(qp::QPData, x0, [λ0, μ0]; kwargs...)\n",
    "\n",
    "Solve the quadratic program (QP) specified by `qp::QPData`, given initial guess `x` for the primal variables, \n",
    "and optionally the Lagrange multipliers for the equality `λ` and inequality `μ` constraints.\n",
    "\n",
    "Returns the optimized solution of primal and dual variables, `xstar,λstar,μstar`.\n",
    "\n",
    "# Optional Keyword Arguments\n",
    "* `penalty_initial` initial value of the penalty parameter\n",
    "* `penalty_scaling` geometric scaling factor for the penalty updates\n",
    "* `eps_primal` tolerance for primal feasiblity (constraint violation)\n",
    "* `eps_inner` tolerance for inner Newton solve\n",
    "* `max_iters` maximum number of outer loop iterations\n",
    "\"\"\"\n",
    "function solve_qp(qp::QPData, x0, λ0=zeros(num_eq(qp)), μ0=zeros(num_ineq(qp)); \n",
    "        penalty_initial=10.0, \n",
    "        penalty_scaling=10.0, \n",
    "        eps_primal=1e-6,\n",
    "        eps_inner=1e-6,\n",
    "        eps_dual=eps_inner,\n",
    "        max_iters=20\n",
    "    )\n",
    "    x = copy(x0)\n",
    "    λ = copy(λ0)\n",
    "    μ = copy(μ0)\n",
    "    \n",
    "    ρ = penalty_initial\n",
    "    ϕ = penalty_scaling\n",
    "    \n",
    "    # Start outer loop\n",
    "    for i = 1:max_iters\n",
    "        # Solve the inner, unconstrained problem\n",
    "        x = newton_solve(qp, x, λ, μ, ρ, eps_inner=eps_inner)\n",
    "\n",
    "        # Use the new solution to update the dual variables\n",
    "        λ, μ = dual_update(qp, x, λ, μ, ρ)\n",
    "        \n",
    "        # TODO: update the penalty parameter\n",
    "        ρ *= ϕ\n",
    "        \n",
    "        if norm(dual_residual(qp, x, λ, μ)) < eps_primal && norm(primal_residual(qp, x, λ, μ)) < eps_dual\n",
    "            # Return the optimized variables\n",
    "            return x, λ, μ\n",
    "        end        \n",
    "    end\n",
    "    \n",
    "    @warn \"Outer loop max iterations\"\n",
    "    return x, λ, μ \n",
    "end\n",
    "\n",
    "# Optional Methods you may find useful\n",
    "\"\"\"\n",
    "    newton_solve(qp, x, λ, μ, ρ; kwargs...)\n",
    "\n",
    "Minimize the augmented Lagranginan given the current values of the dual variables `λ` and `μ` and the penalty parameter `ρ`.\n",
    "\"\"\"\n",
    "function newton_solve(qp, x, λ, μ, ρ; eps_inner=1e-6)\n",
    "    for i = 1:10\n",
    "        # Compute the gradient and the Hessian of the augmented Lagrangian\n",
    "        r = algrad(qp, x, λ, μ, ρ)\n",
    "        if norm(r) < eps_inner\n",
    "            return x\n",
    "        end\n",
    "        H = alhess(qp, x, λ, μ, ρ)\n",
    "        \n",
    "        # TODO: Compute the Newton step\n",
    "        #       A line search will help with convergence, but shouldn't be necessary for our problem since we're providing a good guess each time\n",
    "        dx = -(H\\r)\n",
    "        x .+= dx\n",
    "    end\n",
    "    @warn \"Inner solve max iterations\"\n",
    "    return x\n",
    "end\n",
    "\n",
    "\"\"\"\n",
    "    algrad(qp, x, λ, μ, ρ)\n",
    "\n",
    "Compute the gradient of the augmented Lagrangian, provided the QP data `qp`, penalty parameter `ρ`,\n",
    "primal variables `x`, equality Lagrange multipliers `λ` and inequality Lagrange multipliers `μ`\n",
    "\"\"\"\n",
    "function algrad(qp, x, λ, μ, ρ)\n",
    "    # TODO: compute the gradient of the augmented Lagrangian\n",
    "    # HINT: be sure to compute the active constraints!\n",
    "    grad = zero(x)\n",
    "    g = ceq(qp, x)\n",
    "    h = cin(qp, x)\n",
    "    Iρ = Diagonal(zero(μ))\n",
    "    for i = 1:length(μ)\n",
    "        if h[i] > 0 || μ[i] > 0\n",
    "            Iρ[i,i] = ρ\n",
    "        end\n",
    "    end\n",
    "    grad = qp.P * x + qp.q + ρ * qp.A'g + qp.A'λ + qp.C'*Iρ*h + qp.C'μ\n",
    "    return grad\n",
    "end\n",
    "\n",
    "\"\"\"\n",
    "    alhess(qp, x, λ, μ, ρ)\n",
    "\n",
    "Compute the Hessian of the augmented Lagrangian, provided the QP data `qp`, penalty parameter `ρ`,\n",
    "primal variables `x`, equality Lagrange multipliers `λ` and inequality Lagrange multipliers `μ`\n",
    "\"\"\"\n",
    "function alhess(qp, x, λ, μ, ρ)\n",
    "    # TODO: compute the Hessian of the augmented Lagrangian\n",
    "    n = size(x,1)\n",
    "    Iρ = Diagonal(zero(μ))\n",
    "    h = cin(qp, x)\n",
    "    for i = 1:length(μ)\n",
    "        if h[i] > 0 || μ[i] > 0\n",
    "            Iρ[i,i] = ρ\n",
    "        end\n",
    "    end\n",
    "    hess = qp.P + ρ*qp.A'qp.A + qp.C'Iρ*qp.C\n",
    "    return hess\n",
    "end\n",
    "\n",
    "\"\"\"\n",
    "    dual_update(qp, x, λ, μ, ρ)\n",
    "\n",
    "Update the dual variables `λ` and `μ` give the primal variables `x`, QP data `qp` and penalty parameter `ρ`.\n",
    "\"\"\"\n",
    "function dual_update(qp, x, λ, μ, ρ)\n",
    "    # TODO: compute the new values for λ and μ\n",
    "    λnext = λ + ρ * ceq(qp, x)\n",
    "    μnext = μ + ρ * cin(qp, x)\n",
    "    \n",
    "    # Keep the dual variables for the inequality constraints in the nonnegative orthant\n",
    "    for i = 1:length(μ)\n",
    "        μnext[i] = max(0, μnext[i])\n",
    "    end\n",
    "    return λnext, μnext\n",
    "end"
   ]
  },
  {
   "cell_type": "code",
   "execution_count": 34,
   "metadata": {},
   "outputs": [
    {
     "data": {
      "text/plain": [
       "solve_qp (generic function with 3 methods)"
      ]
     },
     "execution_count": 34,
     "metadata": {},
     "output_type": "execute_result"
    }
   ],
   "source": [
    "# BRIANS SOLUTION\n",
    "include(\"qpal.jl\") # <-- see code here\n",
    "function solve_qp(qp::QPData, x0, λ0=zeros(num_eq(qp)), μ0=zeros(num_ineq(qp)); \n",
    "        penalty_initial=10.0, \n",
    "        penalty_scaling=10.0, \n",
    "        eps_primal=1e-6,\n",
    "        eps_inner=1e-6,\n",
    "        max_iters=20\n",
    "    )\n",
    "    n,m,p = size(qp)\n",
    "    x = SVector{n}(x0)\n",
    "    λ = SVector{m}(λ0)\n",
    "    μ = SVector{p}(μ0)\n",
    "\n",
    "    solver = QPAL(qp, penalty_initial, penalty_scaling)\n",
    "    return solve(solver, x, λ, μ)\n",
    "end"
   ]
  },
  {
   "cell_type": "markdown",
   "metadata": {},
   "source": [
    "You can use the following code to test your QP solver."
   ]
  },
  {
   "cell_type": "code",
   "execution_count": 41,
   "metadata": {},
   "outputs": [],
   "source": [
    "using Test, Random\n",
    "Random.seed!(2)\n",
    "\n",
    "# Setting up and solving a random QP\n",
    "n,m,p = 10,1,15 \n",
    "qp = QPData(n,m,p)\n",
    "P = rand(n,n)\n",
    "qp.P .= P'P   # make it P.S.D\n",
    "qp.q .= randn(n)\n",
    "qp.A .= randn(m,n)\n",
    "qp.b .= randn(m)\n",
    "qp.C .= randn(p,n)\n",
    "qp.d .= randn(p)\n",
    "\n",
    "# Initial guess\n",
    "x0 = randn(n)\n",
    "\n",
    "xstar, λstar, μstar = solve_qp(qp, x0)\n",
    "\n",
    "# # Check optimality conditions\n",
    "@test norm(primal_residual(qp, xstar, λstar, μstar)) < 1e-3\n",
    "@test norm(dual_residual(qp, xstar, λstar, μstar)) < 1e-6\n",
    "@test norm(complimentarity(qp, xstar, λstar, μstar)) < 1e-3;"
   ]
  },
  {
   "cell_type": "code",
   "execution_count": 46,
   "metadata": {},
   "outputs": [
    {
     "name": "stdout",
     "output_type": "stream",
     "text": [
      "\u001b[0m\u001b[1mTest Summary: | \u001b[22m\u001b[32m\u001b[1mPass  \u001b[22m\u001b[39m\u001b[36m\u001b[1mTotal\u001b[22m\u001b[39m\n",
      "3b            | \u001b[32m   3  \u001b[39m\u001b[36m    3\u001b[39m\n",
      "-----------------------------------------------------------------\n",
      "           OSQP v0.6.2  -  Operator Splitting QP Solver\n",
      "              (c) Bartolomeo Stellato,  Goran Banjac\n",
      "        University of Oxford  -  Stanford University 2021\n",
      "-----------------------------------------------------------------\n",
      "problem:  variables n = 10, constraints m = 17\n",
      "          nnz(P) + nnz(A) = 225\n",
      "settings: linear system solver = qdldl,\n",
      "          eps_abs = 1.0e-06, eps_rel = 1.0e-06,\n",
      "          eps_prim_inf = 1.0e-04, eps_dual_inf = 1.0e-04,\n",
      "          rho = 1.00e-01 (adaptive),\n",
      "          sigma = 1.00e-06, alpha = 1.60, max_iter = 4000\n",
      "          check_termination: on (interval 25),\n",
      "          scaling: on, scaled_termination: off\n",
      "          warm start: on, polish: off, time_limit: off\n",
      "\n",
      "iter   objective    pri res    dua res    rho        time\n",
      "   1  -7.2126e+00   4.13e+00   5.61e+02   1.00e-01   1.01e-04s\n",
      " 200   3.0915e+01   2.57e-04   4.99e-04   9.58e-01   3.82e-04s\n",
      " 300   3.0950e+01   3.22e-06   6.26e-06   9.58e-01   5.20e-04s\n",
      "\n",
      "status:               solved\n",
      "number of iterations: 300\n",
      "optimal objective:    30.9498\n",
      "run time:             5.24e-04s\n",
      "optimal rho estimate: 1.03e+00\n",
      "\n"
     ]
    }
   ],
   "source": [
    "@testset \"3b\" begin  # POINTS = 25\n",
    "    Random.seed!(4)\n",
    "    # Setting up and solving a random QP\n",
    "    n,m,p = 10,2,15 \n",
    "    qp = QPData(n,m,p)\n",
    "    P = rand(n,n)\n",
    "    qp.P .= P'P   # make it P.S.D\n",
    "    qp.q .= randn(n)\n",
    "    qp.A .= randn(m,n)\n",
    "    qp.b .= randn(m)\n",
    "    qp.C .= randn(p,n)\n",
    "    qp.d .= randn(p)\n",
    "\n",
    "    # Initial guess\n",
    "    x = randn(n)\n",
    "\n",
    "    # Solve\n",
    "    xstar, λstar, μstar = solve_qp(qp, x)\n",
    "    \n",
    "    # Check optimality conditions\n",
    "    @test norm(primal_residual(qp, xstar, λstar, μstar)) < 1e-3  # POINTS = 5\n",
    "    @test norm(dual_residual(qp, xstar, λstar, μstar)) < 1e-6    # POINTS = 5\n",
    "    @test norm(complimentarity(qp, xstar, λstar, μstar)) < 1e-3  # POINTS = 5\n",
    "    \n",
    "    # Compare with OSQP\n",
    "    using OSQP, SparseArrays\n",
    "    model = OSQP.Model()\n",
    "    OSQP.setup!(model, P=sparse(qp.P), q=qp.q, A=sparse([qp.A; qp.C]), l=[qp.b; fill(-Inf,p)], u=[qp.b; qp.d],\n",
    "        eps_abs=1e-6, eps_rel=1e-6, verbose=true)\n",
    "    res = OSQP.solve!(model)\n",
    "#     @test norm(res.x - xstar) < 1e-3           # POINTS = 5\n",
    "#     @test norm(res.y - [λstar; μstar]) < 1e-3  # POINTS = 5\n",
    "end;"
   ]
  },
  {
   "cell_type": "markdown",
   "metadata": {},
   "source": [
    "## Part (c): Simulate the system (10 pts)\n",
    "Use your solver from the previous question to simulate the brick for 3 seconds, from the initial condition of `q0 = [0,1]`, `v0 = [1,0]` with `h=0.01` sec and `m=1`.\n",
    "Use the provided visualization code to visualize your results.\n",
    "\n",
    "**NOTE**: If you are unable to get your QP solver to work, feel free to use OSQP to solve the QP. An example of setting up and solving a QP with OSQP is provided above."
   ]
  },
  {
   "cell_type": "code",
   "execution_count": 7,
   "metadata": {},
   "outputs": [
    {
     "data": {
      "text/plain": [
       "update_qp! (generic function with 1 method)"
      ]
     },
     "execution_count": 7,
     "metadata": {},
     "output_type": "execute_result"
    }
   ],
   "source": [
    "# TASK: Implement the following method (2 pts)\n",
    "\"\"\"\n",
    "    build_qp(q, v; mass=1, h=0.01)\n",
    "\n",
    "Build the Quadratic Program corresponding to the falling brick example of mass `mass`, \n",
    "given the 2D position `q` and velocity `v`, and the time step `h`.\n",
    "\n",
    "Should return a `QPData` object with the correct sizes.\n",
    "\"\"\"\n",
    "function build_qp(q,v; mass=1, h=0.01)\n",
    "    # TODO: finish the function\n",
    "    Pmat = zeros(2,2)\n",
    "    qvec = zeros(2)\n",
    "    A = zeros(0,2)\n",
    "    b = zeros(0)\n",
    "    C = zeros(1,2)\n",
    "    d = zeros(1)\n",
    "    \n",
    "    # SOLUTION\n",
    "    M = I(2)*mass\n",
    "    g = [0,9.81]\n",
    "    J = [0 1]\n",
    "    Pmat .= Matrix(M)\n",
    "    qvec .= M*(h*g - v)\n",
    "    C .= -J*h\n",
    "    d .= J*q\n",
    "    \n",
    "    # Return as a QPData type\n",
    "    QPData(Pmat,qvec,A,b,C,d)\n",
    "end\n",
    "\n",
    "# SOLUTION: Extra function for using the simulation\n",
    "function update_qp!(qp, q, v)\n",
    "    M = qp.P\n",
    "    h = -qp.C[2]\n",
    "    g = [0,9.81]\n",
    "    qp.q .= M*(h*g - v)\n",
    "    qp.d .= q[2]\n",
    "    return nothing\n",
    "end"
   ]
  },
  {
   "cell_type": "code",
   "execution_count": 8,
   "metadata": {},
   "outputs": [
    {
     "name": "stdout",
     "output_type": "stream",
     "text": [
      "\u001b[0m\u001b[1mTest Summary: | \u001b[22m\u001b[32m\u001b[1mPass  \u001b[22m\u001b[39m\u001b[36m\u001b[1mTotal\u001b[22m\u001b[39m\n",
      "3c            | \u001b[32m   6  \u001b[39m\u001b[36m    6\u001b[39m\n"
     ]
    }
   ],
   "source": [
    "@testset \"3c\" begin                                # POINTS = 10\n",
    "    @testset \"build qp\" begin                      # POINTS = 2\n",
    "        q = [1.2,-0.36]\n",
    "        v = [10,-1.2]\n",
    "        qp = build_qp(q, v)\n",
    "        @test qp.P ≈ load(resfile, \"P\") atol=1e-6  # POINTS = 0.5\n",
    "        @test qp.q ≈ load(resfile, \"q\") atol=1e-6  # POINTS = 0.5\n",
    "        @test qp.A ≈ load(resfile, \"A\") atol=1e-6  # POINTS = 0.25\n",
    "        @test qp.b ≈ load(resfile, \"b\") atol=1e-6  # POINTS = 0.25\n",
    "        @test qp.C ≈ load(resfile, \"C\") atol=1e-6  # POINTS = 0.25\n",
    "        @test qp.d ≈ load(resfile, \"d\") atol=1e-6  # POINTS = 0.25\n",
    "    end\n",
    "end;"
   ]
  },
  {
   "cell_type": "code",
   "execution_count": 213,
   "metadata": {},
   "outputs": [
    {
     "data": {
      "text/plain": [
       "simulate_brick (generic function with 3 methods)"
      ]
     },
     "execution_count": 213,
     "metadata": {},
     "output_type": "execute_result"
    }
   ],
   "source": [
    "# TASK: Implement the following method (8 pts)\n",
    "function simulate_brick(q0=[0,1.], v0=[1,0.]; h=0.01, T=3.0, m=1.0)\n",
    "    times = range(0, T, step=h)\n",
    "    qs = [zero(q0) for t in times]\n",
    "    vs = [zero(v0) for t in times]\n",
    "    qs[1] .= q0\n",
    "    vs[1] .= v0\n",
    "    λs = zeros(length(times))\n",
    "    \n",
    "    # TODO: Simulate the brick by solving the QP\n",
    "    #  TIP: remember to update your QP after each step\n",
    "    \n",
    "    # SOLUTION\n",
    "    # Build QP\n",
    "    qp = build_qp(q0, v0; mass=m, h=h)\n",
    "    g = [0,9.81]\n",
    "\n",
    "    # Simulation Loop\n",
    "    for i = 1:length(times)-1\n",
    "        # Update the qp with the new values\n",
    "        update_qp!(qp, qs[i], vs[i])\n",
    "        \n",
    "        # Solve the QP for the next velocity\n",
    "        vnext,_,λ = solve_qp(qp, vs[i])\n",
    "        λs[i] = λ[1]\n",
    "        vs[i+1] .= vnext\n",
    "        \n",
    "        # Use backward Euler to propagate the state\n",
    "        qs[i+1] .= qs[i] + h*vs[i+1]\n",
    "    end\n",
    "    \n",
    "    # Return the state and velocity trajectories\n",
    "    return qs, vs, λs\n",
    "end"
   ]
  },
  {
   "cell_type": "markdown",
   "metadata": {},
   "source": [
    "### Visualize the Results\n",
    "Use the following code to visualize the the results of your simulation"
   ]
  },
  {
   "cell_type": "code",
   "execution_count": 156,
   "metadata": {},
   "outputs": [
    {
     "name": "stderr",
     "output_type": "stream",
     "text": [
      "┌ Info: MeshCat server started. You can open the visualizer by visiting the following URL in your browser:\n",
      "│ http://127.0.0.1:8701\n",
      "└ @ MeshCat /home/brian/.julia/packages/MeshCat/Ax8pH/src/visualizer.jl:73\n"
     ]
    },
    {
     "data": {
      "text/html": [
       "    <div style=\"height: 500px; width: 100%; overflow-x: auto; overflow-y: hidden; resize: both\">\n",
       "    <iframe src=\"http://127.0.0.1:8701\" style=\"width: 100%; height: 100%; border: none\"></iframe>\n",
       "    </div>\n"
      ],
      "text/plain": [
       "MeshCat.DisplayedVisualizer(MeshCat.CoreVisualizer(MeshCat.SceneTrees.SceneNode(nothing, nothing, Dict{String, Vector{UInt8}}(), nothing, Dict{String, MeshCat.SceneTrees.SceneNode}(\"meshcat\" => MeshCat.SceneTrees.SceneNode(nothing, nothing, Dict{String, Vector{UInt8}}(), nothing, Dict{String, MeshCat.SceneTrees.SceneNode}(\"brick\" => MeshCat.SceneTrees.SceneNode(UInt8[0x83, 0xa6, 0x6f, 0x62, 0x6a, 0x65, 0x63, 0x74, 0x84, 0xaa  …  0x68, 0x63, 0x61, 0x74, 0x2f, 0x62, 0x72, 0x69, 0x63, 0x6b], nothing, Dict{String, Vector{UInt8}}(), nothing, Dict{String, MeshCat.SceneTrees.SceneNode}()))))), Set{Any}(), ip\"127.0.0.1\", 8701))"
      ]
     },
     "execution_count": 156,
     "metadata": {},
     "output_type": "execute_result"
    }
   ],
   "source": [
    "# Set up Visualizer\n",
    "using MeshCat\n",
    "using GeometryBasics, Colors, CoordinateTransformations\n",
    "if !isautograder\n",
    "    vis = Visualizer()\n",
    "    setobject!(vis[\"brick\"], Rect3D(Vec(0,0,0f0), 0.5*Vec(2,1,1f0)), MeshPhongMaterial(color=colorant\"firebrick\"))\n",
    "    render(vis)\n",
    "end"
   ]
  },
  {
   "cell_type": "code",
   "execution_count": 157,
   "metadata": {},
   "outputs": [],
   "source": [
    "function show_sim(vis, qs, h)\n",
    "    fps = Int(1/h)\n",
    "    anim = MeshCat.Animation(fps)\n",
    "    for (i,q) in enumerate(qs)\n",
    "        atframe(anim, i) do\n",
    "            settransform!(vis[\"brick\"], Translation(q[1],0,q[2]))\n",
    "        end\n",
    "    end\n",
    "    setanimation!(vis, anim)\n",
    "end\n",
    "if !isautograder\n",
    "    show_sim(vis, h::Real) = show_sim(vis, simulate_brick(h=h)[1], h)\n",
    "    show_sim(vis, 0.01);\n",
    "end"
   ]
  },
  {
   "cell_type": "code",
   "execution_count": 158,
   "metadata": {},
   "outputs": [
    {
     "name": "stdout",
     "output_type": "stream",
     "text": [
      "\u001b[0m\u001b[1mTest Summary: | \u001b[22m\u001b[32m\u001b[1mPass  \u001b[22m\u001b[39m\u001b[36m\u001b[1mTotal\u001b[22m\u001b[39m\n",
      "3c            | \u001b[32m   9  \u001b[39m\u001b[36m    9\u001b[39m\n"
     ]
    }
   ],
   "source": [
    "using Statistics\n",
    "@testset \"3c\" begin                  # POINTS = 10      \n",
    "    @testset \"simulate brick\" begin  # POINTS = 8\n",
    "        h = 0.01\n",
    "        qans = load(resfile, \"qs\")\n",
    "        vans = load(resfile, \"vs\")\n",
    "        qs, vs = simulate_brick(h=h)\n",
    "        eps = 1e-6\n",
    "\n",
    "        @test [q[1]/0.01 for q in diff(qs)] ≈ [v[1] for v in vs[1:end-1]] atol=1e-6  # Sanity check velocities              POINTS = 0.5\n",
    "        @test std([q[1] for q in diff(qs)]) < eps                                    # no horizontal acceleration           POINTS = 0.5\n",
    "        @test all(q->q[1] > 0, diff(qs))                                             # positive horizontal velocity         POINTS = 0.5\n",
    "        @test all(q->q[2] > -eps, qs)                                                # no penetration through the floor     POINTS = 1\n",
    "        @test all(v->v[1] ≈ 1.0, vs)                                                 # constant horizontal velocity         POINTS = 0.5\n",
    "        @test all(v->v[2] < eps, vs)                                                 # all vertical velocity is negative    POINTS = 1\n",
    "        @test all(v->abs(v[2]) < eps, vs[101:end])                                   # zero vertical velocity after impact (actual impact time is before this)  # POINTS = 1\n",
    "        @test qs ≈ qans atol=1e-3  # POINTS = 1.5\n",
    "        @test vs ≈ vans atol=1e-3  # POINTS = 1.5\n",
    "    end\n",
    "end;"
   ]
  },
  {
   "cell_type": "markdown",
   "metadata": {},
   "source": [
    "## EXTRA CREDIT: Make it fast! (max 15 pts)\n",
    "You can earn extra credit by making your QP solver fast. Points will be given relative to the speed of OSQP, a state-of-the-art QP solver. There will be four different levels:\n",
    "1. Less than 0.5x the time of OSQP (2x slower that OSQP) (2 pts)\n",
    "2. Faster than OSQP (5 pts)\n",
    "3. 2x faster than OSQP (8 pts)\n",
    "4. Faster than Brian's solution (about 5x faster than OSQP) (10 pts)\n",
    "\n",
    "It will be timed on the brick simulator. Further extra credit (5 pts) may be assigned if you implement equality constraints and show it's able to successfully solve them.\n",
    "\n",
    "Tips:\n",
    "* Check out the `StaticArrays` package\n",
    "* Consider making your own solver type\n",
    "* Avoid allocating new memory\n",
    "* Use the `BenchmarkTools` package to check the performance of individual pieces\n",
    "* Check out the [Julia Performance Tips](https://docs.julialang.org/en/v1/manual/performance-tips/)\n",
    "* Write a version of your simulation code that uses OSQP to compare performance"
   ]
  },
  {
   "cell_type": "code",
   "execution_count": 13,
   "metadata": {},
   "outputs": [
    {
     "name": "stdout",
     "output_type": "stream",
     "text": [
      "Student solution\n",
      "  5.264 ms (46236 allocations: 2.38 MiB)\n"
     ]
    }
   ],
   "source": [
    "# Sample timing results\n",
    "using BenchmarkTools\n",
    "println(\"Student solution\")\n",
    "@btime simulate_brick();"
   ]
  },
  {
   "cell_type": "code",
   "execution_count": 14,
   "metadata": {},
   "outputs": [
    {
     "data": {
      "text/plain": [
       "simulate_brick_OSQP (generic function with 3 methods)"
      ]
     },
     "execution_count": 14,
     "metadata": {},
     "output_type": "execute_result"
    }
   ],
   "source": [
    "# SOLUTION\n",
    "include(\"qpal.jl\") # <-- see code here\n",
    "function simulate_brick_brian(q0=SA[0,1.], v0=SA[1,0.]; h=0.01, T=3.0, m=1.0)\n",
    "    times = range(0, T, step=h)\n",
    "    qs = [zero(q0) for t in times]\n",
    "    vs = [zero(v0) for t in times]\n",
    "    qs[1] = q0\n",
    "    vs[1] = v0\n",
    "    \n",
    "    # TODO: Simulate the brick by solving the QP\n",
    "    #  TIP: remember to update your QP after each step\n",
    "        \n",
    "    # Build QP solver\n",
    "    M = SA[m 0; 0 m]\n",
    "    g = SA[0,9.81]\n",
    "    J = SA[0 1.]\n",
    "    P = Symmetric(M)\n",
    "    q = M*(h*g - v0)\n",
    "    A = @SMatrix zeros(Float64,0,2)\n",
    "    b = @SVector zeros(Float64,0)\n",
    "    C = -J*h\n",
    "    d = J*q0\n",
    "    a = @MVector zeros(Bool,1)\n",
    "    solver = QPAL(P,q,A,b,C,d,a, 10.0, 10.0)\n",
    "    \n",
    "    # Initialize dual variables\n",
    "    λ = @SVector zeros(Float64,0)\n",
    "    μ = @SVector zeros(Float64,1)\n",
    "\n",
    "    # Simulation Loop\n",
    "    for i = 1:length(times)-1\n",
    "        # Update the qp with the new values\n",
    "        solver.q = M*(h*g - vs[i])\n",
    "        solver.d = SA[qs[i][2]]\n",
    "        \n",
    "        # Solve the QP for the next velocity\n",
    "        solver.ρ = 100.0   # reset the penalty parameter\n",
    "        vnext, = solve(solver, vs[i], λ, μ)\n",
    "        vs[i+1] = vnext\n",
    "        \n",
    "        # Use backward Euler to propagate the state\n",
    "        qs[i+1] = qs[i] + h*vs[i+1]\n",
    "    end\n",
    "    return qs, vs\n",
    "end\n",
    "\n",
    "function simulate_brick_OSQP(q0=[0,1.], v0=[1,0.]; h=0.01, T=3.0, m=1.0)\n",
    "    times = range(0, T, step=h)\n",
    "    qs = [zero(q0) for t in times]\n",
    "    vs = [zero(v0) for t in times]\n",
    "    qs[1] .= q0\n",
    "    vs[1] .= v0\n",
    "\n",
    "    # Build QP\n",
    "    qp = build_qp(q0, v0; mass=m, h=h)\n",
    "    n,m,p = size(qp)\n",
    "    g = [0,9.81]\n",
    "    model = OSQP.Model()\n",
    "    OSQP.setup!(model, P=sparse(qp.P), q=qp.q, A=sparse([qp.A; qp.C]), l=[qp.b; fill(-Inf,p)], u=[qp.b; qp.d],\n",
    "        eps_abs=1e-6, eps_rel=1e-6, verbose=false)\n",
    "\n",
    "    # Simulation Loop\n",
    "    for i = 1:length(times)-1\n",
    "        # Update the qp with the new values\n",
    "        update_qp!(qp, qs[i], vs[i])\n",
    "        OSQP.update!(model, q=qp.q, u=qp.d)\n",
    "        \n",
    "        # Solve the QP for the next velocity\n",
    "        res = OSQP.solve!(model)\n",
    "        vs[i+1] .= res.x\n",
    "        \n",
    "        # Use backward Euler to propagate the state\n",
    "        qs[i+1] .= qs[i] + h*vs[i+1]\n",
    "    end\n",
    "    return qs, vs\n",
    "end"
   ]
  },
  {
   "cell_type": "code",
   "execution_count": 20,
   "metadata": {},
   "outputs": [
    {
     "name": "stdout",
     "output_type": "stream",
     "text": [
      "  50.438 μs (4 allocations: 9.88 KiB)\n"
     ]
    }
   ],
   "source": [
    "@btime simulate_brick_brian();"
   ]
  },
  {
   "cell_type": "code",
   "execution_count": 21,
   "metadata": {},
   "outputs": [
    {
     "name": "stdout",
     "output_type": "stream",
     "text": [
      "  851.432 μs (6408 allocations: 445.70 KiB)\n"
     ]
    }
   ],
   "source": [
    "println(\"OSQP Solution\")\n",
    "@btime simulate_brick_OSQP();"
   ]
  }
 ],
 "metadata": {
  "@webio": {
   "lastCommId": null,
   "lastKernelId": null
  },
  "kernelspec": {
   "display_name": "Julia 1.7.2",
   "language": "julia",
   "name": "julia-1.7"
  },
  "language_info": {
   "file_extension": ".jl",
   "mimetype": "application/julia",
   "name": "julia",
   "version": "1.7.2"
  }
 },
 "nbformat": 4,
 "nbformat_minor": 4
}
