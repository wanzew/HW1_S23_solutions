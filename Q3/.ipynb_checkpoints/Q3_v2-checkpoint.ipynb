{
 "cells": [
  {
   "cell_type": "code",
   "execution_count": 16,
   "id": "d5ac3f7e",
   "metadata": {},
   "outputs": [
    {
     "name": "stderr",
     "output_type": "stream",
     "text": [
      "\u001b[32m\u001b[1m  Activating\u001b[22m\u001b[39m project at `~/devel/hw_ideas/mpc/hw1`\n"
     ]
    }
   ],
   "source": [
    "import Pkg\n",
    "Pkg.activate(dirname(@__DIR__))\n",
    "Pkg.instantiate()\n",
    "using LinearAlgebra, Plots\n",
    "import ForwardDiff as FD\n",
    "using Printf\n",
    "using JLD2"
   ]
  },
  {
   "cell_type": "markdown",
   "id": "7142245b",
   "metadata": {},
   "source": [
    "## Q2: Augmented Lagrangian Quadratic Program Solver\n",
    "\n",
    "Here we are going to use the augmented lagrangian method [here](https://www.youtube.com/watch?v=0x0JD5uO_ZQ) and [here](https://github.com/Optimal-Control-16-745/lecture-notebooks/blob/main/misc/AL_tutorial.pdf) to solve the following problem:\n",
    "\n",
    "$$\\begin{align}\n",
    "\\min_x \\quad & \\frac{1}{2}x^TQx + q^Tx \\\\ \n",
    "\\mbox{s.t.}\\quad &  Ax -b = 0 \\\\ \n",
    "&  Gx - h \\leq 0 \n",
    "\\end{align}$$\n",
    "where the cost function is described by $Q \\in \\mathbb{R}^{n \\times n}$, $q \\in \\mathbb{R}^n$, an equality constraint is described by $A \\in \\mathbb{R}^{m \\times n}$ and $b \\in \\mathbb{R}^m$, and an inequality constraint is described by $G \\in \\mathbb{R}^{p \\times n}$ and $h \\in \\mathbb{R}^p$.\n",
    "\n",
    "\n",
    "By introducing a dual variable $\\lambda \\in \\mathbb{R}^m$ for the equality constraint, and $\\mu \\in \\mathbb{R}^p$ for the inequality constraint, we have the following KKT conditions for optimality:\n",
    "\n",
    "$$\\begin{align}\n",
    "Qx + q + A^T\\lambda + G^T \\mu &= 0 \\quad \\quad \\text{stationarity}\\\\ \n",
    "Ax-b&= 0 \\quad \\quad \\text{primal feasibility} \\\\ \n",
    "Gx-h&\\leq 0 \\quad \\quad \\text{primal feasibility} \\\\ \n",
    "\\mu &\\geq 0 \\quad \\quad \\text{dual feasibility} \\\\ \n",
    "\\mu \\circ (Gx - h) &= 0 \\quad \\quad \\text{complementarity}\n",
    "  \\end{align}$$\n",
    "  where $\\circ$ is element-wise multiplication.  "
   ]
  },
  {
   "cell_type": "code",
   "execution_count": 19,
   "id": "e9a03604",
   "metadata": {},
   "outputs": [
    {
     "name": "stdout",
     "output_type": "stream",
     "text": [
      "iter   |∇Lₓ|      |∇ALₓ|     max(h)     |c|        compl     ρ\n",
      "----------------------------------------------------------------\n",
      "  1   0.00e+00   0.00e+00   4.38e+00   6.49e+00   0.00e+00  0e+00\n",
      "  2   0.00e+00   0.00e+00   4.38e+00   6.49e+00   0.00e+00  0e+00\n",
      "  3   0.00e+00   0.00e+00   4.38e+00   6.49e+00   0.00e+00  0e+00\n",
      "  4   0.00e+00   0.00e+00   4.38e+00   6.49e+00   0.00e+00  0e+00\n",
      "  5   0.00e+00   0.00e+00   4.38e+00   6.49e+00   0.00e+00  0e+00\n",
      "  6   0.00e+00   0.00e+00   4.38e+00   6.49e+00   0.00e+00  0e+00\n",
      "  7   0.00e+00   0.00e+00   4.38e+00   6.49e+00   0.00e+00  0e+00\n",
      "  8   0.00e+00   0.00e+00   4.38e+00   6.49e+00   0.00e+00  0e+00\n",
      "  9   0.00e+00   0.00e+00   4.38e+00   6.49e+00   0.00e+00  0e+00\n",
      " 10   0.00e+00   0.00e+00   4.38e+00   6.49e+00   0.00e+00  0e+00\n",
      " 11   0.00e+00   0.00e+00   4.38e+00   6.49e+00   0.00e+00  0e+00\n",
      " 12   0.00e+00   0.00e+00   4.38e+00   6.49e+00   0.00e+00  0e+00\n",
      " 13   0.00e+00   0.00e+00   4.38e+00   6.49e+00   0.00e+00  0e+00\n",
      " 14   0.00e+00   0.00e+00   4.38e+00   6.49e+00   0.00e+00  0e+00\n",
      " 15   0.00e+00   0.00e+00   4.38e+00   6.49e+00   0.00e+00  0e+00\n",
      " 16   0.00e+00   0.00e+00   4.38e+00   6.49e+00   0.00e+00  0e+00\n",
      " 17   0.00e+00   0.00e+00   4.38e+00   6.49e+00   0.00e+00  0e+00\n",
      " 18   0.00e+00   0.00e+00   4.38e+00   6.49e+00   0.00e+00  0e+00\n",
      " 19   0.00e+00   0.00e+00   4.38e+00   6.49e+00   0.00e+00  0e+00\n",
      " 20   0.00e+00   0.00e+00   4.38e+00   6.49e+00   0.00e+00  0e+00\n"
     ]
    },
    {
     "data": {
      "text/plain": [
       "([0.0, 0.0, 0.0, 0.0, 0.0, 0.0, 0.0, 0.0, 0.0, 0.0], [0.0, 0.0, 0.0], [0.0, 0.0, 0.0, 0.0, 0.0])"
      ]
     },
     "execution_count": 19,
     "metadata": {},
     "output_type": "execute_result"
    }
   ],
   "source": [
    "\"\"\"\n",
    "The data for the QP is stored in `qp` the following way:\n",
    "    @load joinpath(@__DIR__, \"qp_data.jld2\") qp \n",
    "\n",
    "which is a NamedTuple, where\n",
    "    Q, q, A, b, G, h = qp.Q, qp.q, qp.A, qp.b, qp.G, qp.h\n",
    "\n",
    "contains all of the problem data you will need for the QP.\n",
    "\n",
    "Your job is to make the following function \n",
    "    \n",
    "    x, λ, μ = solve_qp(qp)\n",
    "\n",
    "You can use (or not use) any of the additional functions:\n",
    "\"\"\"\n",
    "function cost(qp::NamedTuple, x::Vector)::Real\n",
    "    0.5*x'*qp.Q*x + dot(qp.q,x)\n",
    "end\n",
    "function c_eq(qp::NamedTuple, x::Vector)::Vector\n",
    "    qp.A*x - qp.b \n",
    "end\n",
    "function h_ineq(qp::NamedTuple, x::Vector)::Vector\n",
    "    qp.G*x - qp.h\n",
    "end\n",
    "\n",
    "function mask_matrix(qp::NamedTuple, x::Vector, μ::Vector, ρ::Real)::Matrix\n",
    "    error(\"not implemented\")\n",
    "end\n",
    "function augmented_lagrangian(qp::NamedTuple, x::Vector, λ::Vector, μ::Vector, ρ::Real)::Real\n",
    "    error(\"not implemented\")\n",
    "end\n",
    "function logging(qp::NamedTuple, main_iter::Int, AL_gradient::Vector, x::Vector, λ::Vector, μ::Vector, ρ::Real)\n",
    "    stationarity_norm = 0.0\n",
    "    @printf(\"%3d  % 7.2e  % 7.2e  % 7.2e  % 7.2e  % 7.2e  %5.0e\\n\",\n",
    "          main_iter, stationarity_norm, norm(AL_gradient), maximum(h_ineq(qp,x)),\n",
    "          norm(c_eq(qp,x),Inf), abs(dot(μ,h_ineq(qp,x))), ρ)\n",
    "end\n",
    "function solve_qp(qp)\n",
    "    x = zeros(length(qp.q))\n",
    "    λ = zeros(length(qp.b))\n",
    "    μ = zeros(length(qp.h))\n",
    "    \n",
    "    @printf \"iter   |∇Lₓ|      |∇ALₓ|     max(h)     |c|        compl     ρ\\n\"\n",
    "    @printf \"----------------------------------------------------------------\\n\"\n",
    "    \n",
    "    for main_iter = 1:20  \n",
    "        logging(qp, main_iter, zeros(1), x, λ, μ, 0.0)\n",
    "    end\n",
    "    return x, λ, μ\n",
    "end\n",
    "let \n",
    "    @load joinpath(@__DIR__, \"qp_data.jld2\") qp \n",
    "    x, λ, μ = solve_qp(qp)\n",
    "end"
   ]
  },
  {
   "cell_type": "code",
   "execution_count": 23,
   "id": "59f094c8",
   "metadata": {},
   "outputs": [
    {
     "data": {
      "text/plain": [
       "solve_qp (generic function with 1 method)"
      ]
     },
     "execution_count": 23,
     "metadata": {},
     "output_type": "execute_result"
    }
   ],
   "source": [
    "\"\"\"\n",
    "The data for the QP is stored in `qp` the following way:\n",
    "    @load joinpath(@__DIR__, \"qp_data.jld2\") qp \n",
    "\n",
    "which is a NamedTuple, where\n",
    "    Q, q, A, b, G, h = qp.Q, qp.q, qp.A, qp.b, qp.G, qp.h\n",
    "\n",
    "contains all of the problem data you will need for the QP.\n",
    "\n",
    "Your job is to make the following function \n",
    "    \n",
    "    x, λ, μ = solve_qp(qp)\n",
    "\n",
    "You can use (or not use) any of the following functions:\n",
    "\"\"\"\n",
    "function cost(qp::NamedTuple, x::Vector)::Real\n",
    "    0.5*x'*qp.Q*x + dot(qp.q,x)\n",
    "end\n",
    "function c_eq(qp::NamedTuple, x::Vector)::Vector\n",
    "    qp.A*x - qp.b \n",
    "end\n",
    "function h_ineq(qp::NamedTuple, x::Vector)::Vector\n",
    "    qp.G*x - qp.h\n",
    "end\n",
    "function kkt_conditions(qp::NamedTuple, x::Vector, λ::Vector, μ::Vector)::Vector\n",
    "    return [\n",
    "        qp.A'*λ + qp.G'*μ + qp.Q*x + qp.q; # stationarity\n",
    "        c_eq(qp,x);\n",
    "        (h_ineq(qp,x) .* μ)\n",
    "    ]\n",
    "end\n",
    "function mask_matrix(qp::NamedTuple, x::Vector, μ::Vector, ρ::Real)::Matrix\n",
    "    h = h_ineq(qp,x)\n",
    "    Iρ = zeros(length(μ), length(μ))\n",
    "    for i = 1:length(μ)\n",
    "        if ((h[i] < 0) && (μ[i] ==0))\n",
    "            Iρ[i,i]=0\n",
    "        else\n",
    "            Iρ[i,i]=ρ\n",
    "        end\n",
    "    end\n",
    "    return Iρ\n",
    "end\n",
    "function augmented_lagrangian(qp::NamedTuple, x::Vector, λ::Vector, μ::Vector, ρ::Real)::Real\n",
    "    h = h_ineq(qp,x)\n",
    "    c = c_eq(qp,x)\n",
    "    Iρ = mask_matrix(qp, x, μ, ρ)\n",
    "    cost(qp,x) + λ'*c + μ'*h + 0.5*ρ*c'c + 0.5*h'*Iρ*h\n",
    "end\n",
    "function logging(qp, main_iter, al_gradient, x, λ, μ, ρ)\n",
    "    stationarity = norm(qp.A'*λ + qp.G'*μ + qp.Q*x + qp.q)\n",
    "    @printf(\"%3d  % 7.2e  % 7.2e  % 7.2e  % 7.2e  % 7.2e  %5.0e\\n\",\n",
    "          main_iter, stationarity, norm(al_gradient), maximum(h_ineq(qp,x)),\n",
    "          norm(c_eq(qp,x),Inf), abs(dot(μ,h_ineq(qp,x))), ρ)\n",
    "end\n",
    "function solve_qp(qp)\n",
    "    x = zeros(length(qp.q))\n",
    "    λ = zeros(length(qp.b))\n",
    "    μ = zeros(length(qp.h))\n",
    "    ρ = 1.0 \n",
    "    ϕ = 10.0\n",
    "    \n",
    "    @printf \"iter   |∇Lₓ|      |∇ALₓ|     max(h)     |c|        compl     ρ\\n\"\n",
    "    @printf \"----------------------------------------------------------------\\n\"\n",
    "    for main_iter = 1:20\n",
    "        g = FD.gradient(_x->augmented_lagrangian(qp,_x,λ,μ,ρ), x)\n",
    "        if norm(g) < 1e-6 \n",
    "            λ += ρ*c_eq(qp, x)\n",
    "            μ = max.(0, μ + ρ*h_ineq(qp,x))\n",
    "            ρ *= ϕ\n",
    "        else\n",
    "            H = FD.hessian(_x->augmented_lagrangian(qp,_x,λ,μ,ρ), x)\n",
    "            x += -H\\g\n",
    "        end\n",
    "        logging(qp, main_iter, g, x, λ, μ, ρ)\n",
    "        \n",
    "        if (maximum(h_ineq(qp,x)) < 1e-8) && (norm(c_eq(qp,x),Inf) < 1e-8)\n",
    "            @info \"success\"\n",
    "            break\n",
    "        end  \n",
    "    end\n",
    "    \n",
    "    return x, λ, μ\n",
    "end"
   ]
  },
  {
   "cell_type": "code",
   "execution_count": 24,
   "id": "48825c31",
   "metadata": {},
   "outputs": [
    {
     "name": "stdout",
     "output_type": "stream",
     "text": [
      "iter   |∇Lₓ|      |∇ALₓ|     max(h)     |c|        compl     ρ\n",
      "----------------------------------------------------------------\n",
      "  1   0.00e+00   5.60e+01   1.55e+00   1.31e+00   0.00e+00  1e+00\n",
      "  2   0.00e+00   4.83e+00   5.51e-01   1.27e+00   0.00e+00  1e+00\n",
      "  3   0.00e+00   6.02e-15   5.51e-01   1.27e+00   4.59e-01  1e+01\n",
      "  4   0.00e+00   4.92e+01   2.56e-02   3.07e-01   4.94e-02  1e+01\n",
      "  5   0.00e+00   2.45e-14   2.56e-02   3.07e-01   1.05e-02  1e+02\n",
      "  6   0.00e+00   8.87e+01   6.84e-03   1.35e-02   4.55e-04  1e+02\n",
      "  7   0.00e+00   2.58e-13   6.84e-03   1.35e-02   7.94e-03  1e+03\n",
      "  8   0.00e+00   4.28e+01   6.84e-02   1.55e-04   1.40e-04  1e+03\n",
      "  9   0.00e+00   2.13e+02   3.64e-05   1.62e-04   1.17e-04  1e+03\n",
      " 10   0.00e+00   1.09e-12   3.64e-05   1.62e-04   1.06e-04  1e+04\n",
      " 11   0.00e+00   5.30e+00  -5.61e-09   2.05e-08   1.14e-08  1e+04\n",
      " 12   0.00e+00   2.64e-11  -5.61e-09   2.05e-08   1.14e-08  1e+05\n",
      " 13   0.00e+00   5.21e-03  -1.56e-13   3.92e-13   1.89e-13  1e+05\n",
      "\u001b[0m\u001b[1mTest Summary: | \u001b[22m\u001b[32m\u001b[1mPass  \u001b[22m\u001b[39m\u001b[36m\u001b[1mTotal  \u001b[22m\u001b[39m\u001b[0m\u001b[1mTime\u001b[22m\n",
      "qp solver     | \u001b[32m   3  \u001b[39m\u001b[36m    3  \u001b[39m\u001b[0m2.5s\n"
     ]
    },
    {
     "name": "stderr",
     "output_type": "stream",
     "text": [
      "┌ Info: success\n",
      "└ @ Main In[23]:78\n"
     ]
    },
    {
     "data": {
      "text/plain": [
       "Test.DefaultTestSet(\"qp solver\", Any[], 3, false, false, true, 1.671140330910167e9, 1.671140333433712e9)"
      ]
     },
     "execution_count": 24,
     "metadata": {},
     "output_type": "execute_result"
    }
   ],
   "source": [
    "using Test \n",
    "@testset \"qp solver\" begin \n",
    "    @load joinpath(@__DIR__, \"qp_data.jld2\") qp \n",
    "    x, λ, μ = solve_qp(qp)\n",
    "    \n",
    "    @load joinpath(@__DIR__, \"qp_solutions.jld2\") qp_solutions\n",
    "    @test norm(x - qp_solutions.x,Inf)<1e-3;\n",
    "    @test norm(λ - qp_solutions.λ,Inf)<1e-3;\n",
    "    @test norm(μ - qp_solutions.μ,Inf)<1e-3;\n",
    "end"
   ]
  },
  {
   "cell_type": "code",
   "execution_count": null,
   "id": "60f2bbd5",
   "metadata": {},
   "outputs": [],
   "source": []
  }
 ],
 "metadata": {
  "kernelspec": {
   "display_name": "Julia 1.8.3",
   "language": "julia",
   "name": "julia-1.8"
  },
  "language_info": {
   "file_extension": ".jl",
   "mimetype": "application/julia",
   "name": "julia",
   "version": "1.8.3"
  }
 },
 "nbformat": 4,
 "nbformat_minor": 5
}
